{
 "cells": [
  {
   "cell_type": "code",
   "execution_count": 1,
   "id": "548f9d8b",
   "metadata": {},
   "outputs": [
    {
     "data": {
      "text/plain": [
       "True"
      ]
     },
     "execution_count": 1,
     "metadata": {},
     "output_type": "execute_result"
    }
   ],
   "source": [
    "from langchain_perplexity import ChatPerplexity\n",
    "from langchain_core.prompts import ChatPromptTemplate\n",
    "from langchain_core.messages import SystemMessage, HumanMessage, AIMessage\n",
    "from dotenv import load_dotenv\n",
    "import os   \n",
    "load_dotenv()"
   ]
  },
  {
   "cell_type": "code",
   "execution_count": 2,
   "id": "f8e3c73e",
   "metadata": {},
   "outputs": [
    {
     "data": {
      "text/plain": [
       "AIMessage(content=\"Hi Vipin, as a Data Scientist, your role involves collecting, processing, analyzing, and modeling data to extract actionable insights that help businesses make informed decisions. You likely work with programming languages such as Python and Scala, especially in areas like AI and computer vision, as you've indicated in your GitHub profile[2].\\n\\nMore specifically, Data Scientists typically:\\n\\n- Collect data by analyzing business results or setting up studies and manage data storage and integration[1][7].\\n- Cleanse, preprocess, and validate data to ensure quality and consistency[3][5][7].\\n- Use statistical methods and machine learning algorithms to build predictive models and forecast trends[3][5][6].\\n- Develop new frameworks and tools to automate data collection and analysis[1][6].\\n- Analyze large and complex datasets to find patterns, correlations, and actionable insights[1][3][6].\\n- Create reports, visualizations, and presentations to communicate findings clearly to business stakeholders[1][3][5][6].\\n- Collaborate with cross-functional teams including marketing, finance, operations, IT, and business units to integrate data-driven strategies[3][5][6].\\n- Continuously enhance data collection and analysis procedures to support evolving analytic needs[3].\\n\\nIn terms of skills and qualifications, Data Scientists often have strong programming expertise in Python and R (and Scala in your case), proficiency with SQL for querying databases, and a solid foundation in statistics, mathematics, and machine learning frameworks such as scikit-learn, TensorFlow, or PyTorch[5][6]. Advanced degrees in quantitative fields and certifications in data science or machine learning can be common and beneficial[5].\\n\\nYour focus on AI in computer vision aligns well with the typical scope of advanced data science roles that apply machine learning to image and video data, requiring specialized knowledge in deep learning and computer vision algorithms[2].\\n\\nOverall, your role as a Data Scientist positions you as a key contributor to leveraging data for strategic business insights and innovative AI solutions[1][3][6].\", additional_kwargs={'citations': ['https://www.indeed.com/hire/job-description/data-scientist', 'https://github.com/vipinindoria', 'https://www.simplilearn.com/data-scientist-job-description-article', 'https://www.youtube.com/watch?v=lOS76hKRGXI', 'https://und.edu/blog/data-science-roles-and-responsibilities.html', 'https://www.datascience-pm.com/data-science-roles/', 'https://graduate.northeastern.edu/knowledge-hub/what-does-a-data-scientist-do/', 'https://www.bls.gov/ooh/math/data-scientists.htm', 'https://www.robertwalters.us/insights/hiring-advice/blog/the-role-of-a-data-scientist.html', 'https://www.coursera.org/articles/what-is-a-data-scientist'], 'search_results': [{'title': 'Data Scientist Job Description [Updated for 2025] - Indeed', 'url': 'https://www.indeed.com/hire/job-description/data-scientist', 'date': '2025-03-04', 'last_updated': '2025-10-06', 'snippet': 'Here are some common duties and responsibilities of a Data Scientist: Collecting data through means such as analyzing business results or by setting up and ...', 'source': 'web'}, {'title': 'Vipin Indoria vipinindoria - GitHub', 'url': 'https://github.com/vipinindoria', 'date': None, 'last_updated': None, 'snippet': 'I am Data Scientist. My favorite language are Python and Scala. My area of interest is AI in computer vision. - vipinindoria.', 'source': 'web'}, {'title': 'Data Scientist Job Description: Role, Responsibilities, and More', 'url': 'https://www.simplilearn.com/data-scientist-job-description-article', 'date': '2025-09-09', 'last_updated': '2025-08-05', 'snippet': \"A data scientist's job is to analyze data, extract insights, and build predictive models that help organizations make smarter decisions and ...\", 'source': 'web'}, {'title': 'What 6 Years as a Data Scientist in Big Tech Taught Me - YouTube', 'url': 'https://www.youtube.com/watch?v=lOS76hKRGXI', 'date': '2025-04-13', 'last_updated': '2025-08-24', 'snippet': \"Six years. Four companies. One slightly burnt-out but (maybe) wiser data scientist. 🤓 In this video, I'm walking you through my full ...\", 'source': 'web'}, {'title': 'Key Insights on 7 Data Science Roles, Responsibilities and Skills', 'url': 'https://und.edu/blog/data-science-roles-and-responsibilities.html', 'date': '2024-08-14', 'last_updated': '2025-10-06', 'snippet': 'Key responsibilities include: Gathering and cleaning data and conducting exploratory data analysis.', 'source': 'web'}, {'title': 'Data Science Roles - A Definitive Guide', 'url': 'https://www.datascience-pm.com/data-science-roles/', 'date': '2024-11-16', 'last_updated': '2025-05-09', 'snippet': 'Typical Responsibilities:\\u200b\\u200b Ensure data quality, accuracy, and consistency across multiple data sources. Work with data scientists, data analysts, and other ...', 'source': 'web'}, {'title': 'What Does a Data Scientist Do? - Role & Responsibilities', 'url': 'https://graduate.northeastern.edu/knowledge-hub/what-does-a-data-scientist-do/', 'date': '2025-01-10', 'last_updated': '2025-10-01', 'snippet': 'Put simply, data scientists develop processes for modeling data, while data analysts examine data sets to identify trends and draw conclusions.', 'source': 'web'}, {'title': 'Data Scientists : Occupational Outlook Handbook', 'url': 'https://www.bls.gov/ooh/math/data-scientists.htm', 'date': '2025-08-28', 'last_updated': '2025-10-03', 'snippet': 'Duties · Determine which data are available and useful for the project · Collect, categorize, and analyze data · Create, validate, test, and update algorithms and ...', 'source': 'web'}, {'title': 'The role of a data scientist - Robert Walters USA', 'url': 'https://www.robertwalters.us/insights/hiring-advice/blog/the-role-of-a-data-scientist.html', 'date': '2022-08-02', 'last_updated': '2025-06-12', 'snippet': 'Data scientists are the backbone of any organization that relies on data. They help companies interpret, manage, and leverage data to solve complex problems.', 'source': 'web'}, {'title': 'What Is a Data Scientist? Salary, Duties + How to Become One', 'url': 'https://www.coursera.org/articles/what-is-a-data-scientist', 'date': '2025-08-21', 'last_updated': '2025-10-06', 'snippet': 'What does a data scientist do? · Find patterns and trends in datasets to uncover insights · Create algorithms and data models to forecast outcomes.', 'source': 'web'}]}, response_metadata={'model_name': 'sonar'}, id='run--b447cea7-2f14-479b-a9f1-824bdef56a64-0', usage_metadata={'input_tokens': 13, 'output_tokens': 408, 'total_tokens': 421})"
      ]
     },
     "execution_count": 2,
     "metadata": {},
     "output_type": "execute_result"
    }
   ],
   "source": [
    "if \"PPLX_API_KEY\" not in os.environ:\n",
    "    raise ValueError(\"PPLX_API_KEY not found in environment variables. Please set it before running the script.\")\n",
    "\n",
    "else:\n",
    "    model=ChatPerplexity(name=\"sonar\")\n",
    "    repsonse = model.invoke([HumanMessage(content=\"Hi, I'm Vipin and I am a Data Scientist\")])\n",
    "\n",
    "repsonse\n"
   ]
  },
  {
   "cell_type": "code",
   "execution_count": null,
   "id": "ff6de675",
   "metadata": {},
   "outputs": [],
   "source": []
  }
 ],
 "metadata": {
  "kernelspec": {
   "display_name": "langchain",
   "language": "python",
   "name": "python3"
  },
  "language_info": {
   "codemirror_mode": {
    "name": "ipython",
    "version": 3
   },
   "file_extension": ".py",
   "mimetype": "text/x-python",
   "name": "python",
   "nbconvert_exporter": "python",
   "pygments_lexer": "ipython3",
   "version": "3.11.0"
  }
 },
 "nbformat": 4,
 "nbformat_minor": 5
}
