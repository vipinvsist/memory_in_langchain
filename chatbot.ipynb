{
 "cells": [
  {
   "cell_type": "code",
   "execution_count": null,
   "id": "a6e550e2",
   "metadata": {},
   "outputs": [],
   "source": [
    "print(\"a\")"
   ]
  },
  {
   "cell_type": "code",
   "execution_count": null,
   "id": "548f9d8b",
   "metadata": {},
   "outputs": [
    {
     "data": {
      "text/plain": [
       "True"
      ]
     },
     "execution_count": 1,
     "metadata": {},
     "output_type": "execute_result"
    }
   ],
   "source": [
    "from langchain_perplexity import ChatPerplexity\n",
    "from langchain_core.prompts import ChatPromptTemplate\n",
    "from langchain_core.messages import SystemMessage, HumanMessage, AIMessage\n",
    "from dotenv import load_dotenv\n",
    "import os   \n",
    "load_dotenv()"
   ]
  },
  {
   "cell_type": "code",
   "execution_count": null,
   "id": "f8e3c73e",
   "metadata": {},
   "outputs": [
    {
     "data": {
      "text/plain": [
       "AIMessage(content=\"Hi Vipin, as a Data Scientist, your role involves collecting, processing, analyzing, and modeling data to extract actionable insights that help businesses make informed decisions. You likely work with programming languages such as Python and Scala, especially in areas like AI and computer vision, as you've indicated in your GitHub profile[2].\\n\\nMore specifically, Data Scientists typically:\\n\\n- Collect data by analyzing business results or setting up studies and manage data storage and integration[1][7].\\n- Cleanse, preprocess, and validate data to ensure quality and consistency[3][5][7].\\n- Use statistical methods and machine learning algorithms to build predictive models and forecast trends[3][5][6].\\n- Develop new frameworks and tools to automate data collection and analysis[1][6].\\n- Analyze large and complex datasets to find patterns, correlations, and actionable insights[1][3][6].\\n- Create reports, visualizations, and presentations to communicate findings clearly to business stakeholders[1][3][5][6].\\n- Collaborate with cross-functional teams including marketing, finance, operations, IT, and business units to integrate data-driven strategies[3][5][6].\\n- Continuously enhance data collection and analysis procedures to support evolving analytic needs[3].\\n\\nIn terms of skills and qualifications, Data Scientists often have strong programming expertise in Python and R (and Scala in your case), proficiency with SQL for querying databases, and a solid foundation in statistics, mathematics, and machine learning frameworks such as scikit-learn, TensorFlow, or PyTorch[5][6]. Advanced degrees in quantitative fields and certifications in data science or machine learning can be common and beneficial[5].\\n\\nYour focus on AI in computer vision aligns well with the typical scope of advanced data science roles that apply machine learning to image and video data, requiring specialized knowledge in deep learning and computer vision algorithms[2].\\n\\nOverall, your role as a Data Scientist positions you as a key contributor to leveraging data for strategic business insights and innovative AI solutions[1][3][6].\", additional_kwargs={'citations': ['https://www.indeed.com/hire/job-description/data-scientist', 'https://github.com/vipinindoria', 'https://www.simplilearn.com/data-scientist-job-description-article', 'https://www.youtube.com/watch?v=lOS76hKRGXI', 'https://und.edu/blog/data-science-roles-and-responsibilities.html', 'https://www.datascience-pm.com/data-science-roles/', 'https://graduate.northeastern.edu/knowledge-hub/what-does-a-data-scientist-do/', 'https://www.bls.gov/ooh/math/data-scientists.htm', 'https://www.robertwalters.us/insights/hiring-advice/blog/the-role-of-a-data-scientist.html', 'https://www.coursera.org/articles/what-is-a-data-scientist'], 'search_results': [{'title': 'Data Scientist Job Description [Updated for 2025] - Indeed', 'url': 'https://www.indeed.com/hire/job-description/data-scientist', 'date': '2025-03-04', 'last_updated': '2025-10-06', 'snippet': 'Here are some common duties and responsibilities of a Data Scientist: Collecting data through means such as analyzing business results or by setting up and ...', 'source': 'web'}, {'title': 'Vipin Indoria vipinindoria - GitHub', 'url': 'https://github.com/vipinindoria', 'date': None, 'last_updated': None, 'snippet': 'I am Data Scientist. My favorite language are Python and Scala. My area of interest is AI in computer vision. - vipinindoria.', 'source': 'web'}, {'title': 'Data Scientist Job Description: Role, Responsibilities, and More', 'url': 'https://www.simplilearn.com/data-scientist-job-description-article', 'date': '2025-09-09', 'last_updated': '2025-08-05', 'snippet': \"A data scientist's job is to analyze data, extract insights, and build predictive models that help organizations make smarter decisions and ...\", 'source': 'web'}, {'title': 'What 6 Years as a Data Scientist in Big Tech Taught Me - YouTube', 'url': 'https://www.youtube.com/watch?v=lOS76hKRGXI', 'date': '2025-04-13', 'last_updated': '2025-08-24', 'snippet': \"Six years. Four companies. One slightly burnt-out but (maybe) wiser data scientist. 🤓 In this video, I'm walking you through my full ...\", 'source': 'web'}, {'title': 'Key Insights on 7 Data Science Roles, Responsibilities and Skills', 'url': 'https://und.edu/blog/data-science-roles-and-responsibilities.html', 'date': '2024-08-14', 'last_updated': '2025-10-06', 'snippet': 'Key responsibilities include: Gathering and cleaning data and conducting exploratory data analysis.', 'source': 'web'}, {'title': 'Data Science Roles - A Definitive Guide', 'url': 'https://www.datascience-pm.com/data-science-roles/', 'date': '2024-11-16', 'last_updated': '2025-05-09', 'snippet': 'Typical Responsibilities:\\u200b\\u200b Ensure data quality, accuracy, and consistency across multiple data sources. Work with data scientists, data analysts, and other ...', 'source': 'web'}, {'title': 'What Does a Data Scientist Do? - Role & Responsibilities', 'url': 'https://graduate.northeastern.edu/knowledge-hub/what-does-a-data-scientist-do/', 'date': '2025-01-10', 'last_updated': '2025-10-01', 'snippet': 'Put simply, data scientists develop processes for modeling data, while data analysts examine data sets to identify trends and draw conclusions.', 'source': 'web'}, {'title': 'Data Scientists : Occupational Outlook Handbook', 'url': 'https://www.bls.gov/ooh/math/data-scientists.htm', 'date': '2025-08-28', 'last_updated': '2025-10-03', 'snippet': 'Duties · Determine which data are available and useful for the project · Collect, categorize, and analyze data · Create, validate, test, and update algorithms and ...', 'source': 'web'}, {'title': 'The role of a data scientist - Robert Walters USA', 'url': 'https://www.robertwalters.us/insights/hiring-advice/blog/the-role-of-a-data-scientist.html', 'date': '2022-08-02', 'last_updated': '2025-06-12', 'snippet': 'Data scientists are the backbone of any organization that relies on data. They help companies interpret, manage, and leverage data to solve complex problems.', 'source': 'web'}, {'title': 'What Is a Data Scientist? Salary, Duties + How to Become One', 'url': 'https://www.coursera.org/articles/what-is-a-data-scientist', 'date': '2025-08-21', 'last_updated': '2025-10-06', 'snippet': 'What does a data scientist do? · Find patterns and trends in datasets to uncover insights · Create algorithms and data models to forecast outcomes.', 'source': 'web'}]}, response_metadata={'model_name': 'sonar'}, id='run--b447cea7-2f14-479b-a9f1-824bdef56a64-0', usage_metadata={'input_tokens': 13, 'output_tokens': 408, 'total_tokens': 421})"
      ]
     },
     "execution_count": 2,
     "metadata": {},
     "output_type": "execute_result"
    }
   ],
   "source": [
    "if \"PPLX_API_KEY\" not in os.environ:\n",
    "    raise ValueError(\"PPLX_API_KEY not found in environment variables. Please set it before running the script.\")\n",
    "\n",
    "else:\n",
    "    model=ChatPerplexity(name=\"sonar\")\n",
    "    repsonse = model.invoke([HumanMessage(content=\"Hi, I'm Vipin and I am a Data Scientist\")])\n",
    "\n",
    "repsonse\n"
   ]
  },
  {
   "cell_type": "code",
   "execution_count": null,
   "id": "ff6de675",
   "metadata": {},
   "outputs": [
    {
     "data": {
      "text/plain": [
       "AIMessage(content='Your name is Vipin and your role is Data Scientist. In this position, you are responsible for collecting, cleaning, and analyzing large datasets to extract actionable insights that help organizations make informed decisions[1][2][3]. Your typical duties include developing predictive models using machine learning and statistical techniques, preprocessing both structured and unstructured data, building tools for automated data collection, and presenting your findings to business stakeholders through reports and visualizations[1][2][3]. \\n\\nAs a Data Scientist, you collaborate with cross-functional teams, enhance data collection procedures, and continuously refine analytical models to address business challenges[2][3][4]. Strong programming skills (especially in Python and Scala), expertise in machine learning frameworks, and a solid foundation in statistics and mathematics are central to your role[3][4].', additional_kwargs={'citations': ['https://www.indeed.com/hire/job-description/data-scientist', 'https://www.simplilearn.com/data-scientist-job-description-article', 'https://und.edu/blog/data-science-roles-and-responsibilities.html', 'https://www.datascience-pm.com/data-science-roles/', 'https://graduate.northeastern.edu/knowledge-hub/what-does-a-data-scientist-do/', 'https://www.robertwalters.us/insights/hiring-advice/blog/the-role-of-a-data-scientist.html', 'https://www.bls.gov/ooh/math/data-scientists.htm', 'https://www.coursera.org/articles/what-is-a-data-scientist'], 'search_results': [{'title': 'Data Scientist Job Description [Updated for 2025] - Indeed', 'url': 'https://www.indeed.com/hire/job-description/data-scientist', 'date': '2025-03-04', 'last_updated': '2025-10-06', 'snippet': 'Here are some common duties and responsibilities of a Data Scientist: Collecting data through means such as analyzing business results or by setting up and ...', 'source': 'web'}, {'title': 'Data Scientist Job Description: Role, Responsibilities, and More', 'url': 'https://www.simplilearn.com/data-scientist-job-description-article', 'date': '2025-09-09', 'last_updated': '2025-08-05', 'snippet': \"A data scientist's job is to analyze data, extract insights, and build predictive models that help organizations make smarter decisions and ...\", 'source': 'web'}, {'title': 'Key Insights on 7 Data Science Roles, Responsibilities and Skills', 'url': 'https://und.edu/blog/data-science-roles-and-responsibilities.html', 'date': '2024-08-14', 'last_updated': '2025-10-07', 'snippet': 'Key responsibilities include: Gathering and cleaning data and conducting exploratory data analysis.', 'source': 'web'}, {'title': 'Data Science Roles - A Definitive Guide', 'url': 'https://www.datascience-pm.com/data-science-roles/', 'date': '2024-11-16', 'last_updated': '2025-05-09', 'snippet': 'Typical Responsibilities:\\u200b\\u200b Ensure data quality, accuracy, and consistency across multiple data sources. Work with data scientists, data analysts, and other ...', 'source': 'web'}, {'title': 'What Does a Data Scientist Do? - Role & Responsibilities', 'url': 'https://graduate.northeastern.edu/knowledge-hub/what-does-a-data-scientist-do/', 'date': '2025-01-10', 'last_updated': '2025-10-01', 'snippet': 'Put simply, data scientists develop processes for modeling data, while data analysts examine data sets to identify trends and draw conclusions.', 'source': 'web'}, {'title': 'The role of a data scientist - Robert Walters USA', 'url': 'https://www.robertwalters.us/insights/hiring-advice/blog/the-role-of-a-data-scientist.html', 'date': '2022-08-02', 'last_updated': '2025-06-12', 'snippet': 'Data scientists are the backbone of any organization that relies on data. They help companies interpret, manage, and leverage data to solve complex problems.', 'source': 'web'}, {'title': 'Data Scientists : Occupational Outlook Handbook', 'url': 'https://www.bls.gov/ooh/math/data-scientists.htm', 'date': '2025-08-28', 'last_updated': '2025-10-03', 'snippet': 'Duties · Determine which data are available and useful for the project · Collect, categorize, and analyze data · Create, validate, test, and update algorithms and ...', 'source': 'web'}, {'title': 'What Is a Data Scientist? Salary, Duties + How to Become One', 'url': 'https://www.coursera.org/articles/what-is-a-data-scientist', 'date': '2025-08-21', 'last_updated': '2025-10-07', 'snippet': 'What does a data scientist do? · Find patterns and trends in datasets to uncover insights · Create algorithms and data models to forecast outcomes.', 'source': 'web'}]}, response_metadata={'model_name': 'sonar'}, id='run--bfbdeee2-955f-4185-a5ad-2087ee017b32-0', usage_metadata={'input_tokens': 428, 'output_tokens': 162, 'total_tokens': 590})"
      ]
     },
     "execution_count": 5,
     "metadata": {},
     "output_type": "execute_result"
    }
   ],
   "source": [
    "response=model.invoke([\n",
    "    HumanMessage(content=\"Hi, I'm Vipin and I am a Data Scientist\"),\n",
    "    AIMessage(content=\"Hi Vipin, as a Data Scientist, your role involves collecting, processing, analyzing, and modeling data to extract actionable insights that help businesses make informed decisions. You likely work with programming languages such as Python and Scala, especially in areas like AI and computer vision, as you've indicated in your GitHub profile[2].\\n\\nMore specifically, Data Scientists typically:\\n\\n- Collect data by analyzing business results or setting up studies and manage data storage and integration[1][7].\\n- Cleanse, preprocess, and validate data to ensure quality and consistency[3][5][7].\\n- Use statistical methods and machine learning algorithms to build predictive models and forecast trends[3][5][6].\\n- Develop new frameworks and tools to automate data collection and analysis[1][6].\\n- Analyze large and complex datasets to find patterns, correlations, and actionable insights[1][3][6].\\n- Create reports, visualizations, and presentations to communicate findings clearly to business stakeholders[1][3][5][6].\\n- Collaborate with cross-functional teams including marketing, finance, operations, IT, and business units to integrate data-driven strategies[3][5][6].\\n- Continuously enhance data collection and analysis procedures to support evolving analytic needs[3].\\n\\nIn terms of skills and qualifications, Data Scientists often have strong programming expertise in Python and R (and Scala in your case), proficiency with SQL for querying databases, and a solid foundation in statistics, mathematics, and machine learning frameworks such as scikit-learn, TensorFlow, or PyTorch[5][6]. Advanced degrees in quantitative fields and certifications in data science or machine learning can be common and beneficial[5].\\n\\nYour focus on AI in computer vision aligns well with the typical scope of advanced data science roles that apply machine learning to image and video data, requiring specialized knowledge in deep learning and computer vision algorithms[2].\\n\\nOverall, your role as a Data Scientist positions you as a key contributor to leveraging data for strategic business insights and innovative AI solutions[1][3][6].\"),\n",
    "    HumanMessage(content=\"What is my name and role?\")\n",
    "]\n",
    ")\n",
    "response"
   ]
  },
  {
   "cell_type": "code",
   "execution_count": null,
   "id": "a17f6736",
   "metadata": {},
   "outputs": [],
   "source": [
    "from langchain_community.chat_message_histories import ChatMessageHistory\n",
    "from langchain_core.chat_history import BaseChatMessageHistory\n",
    "from langchain_core.runnables.history import RunnableWithMessageHistory\n",
    "\n",
    "store={}\n",
    "\n",
    "def get_session_history(session_id: str)-> BaseChatMessageHistory:\n",
    "    if session_id not in store:\n",
    "        store[session_id]=ChatMessageHistory()\n",
    "    return store[session_id]\n",
    "\n",
    "with_message_history=RunnableWithMessageHistory(model,get_session_history)"
   ]
  },
  {
   "cell_type": "code",
   "execution_count": null,
   "id": "e6001a63",
   "metadata": {},
   "outputs": [],
   "source": [
    "config={\"configurable\":{\"session_id\":\"chat1\"}}"
   ]
  },
  {
   "cell_type": "code",
   "execution_count": null,
   "id": "cfe7354f",
   "metadata": {},
   "outputs": [
    {
     "data": {
      "text/plain": [
       "'Your name is Vipin, and your role is a Data Scientist.'"
      ]
     },
     "execution_count": 13,
     "metadata": {},
     "output_type": "execute_result"
    }
   ],
   "source": [
    "resposne=with_message_history.invoke([HumanMessage(content=\"Hi, I'm Vipin and I am a Data Scientist\")],config=config)\n",
    "resposne.content"
   ]
  },
  {
   "cell_type": "code",
   "execution_count": null,
   "id": "3ca46101",
   "metadata": {},
   "outputs": [
    {
     "data": {
      "text/plain": [
       "AIMessage(content='Based on your introduction, you are **Vipin**. However, none of the search results provide information about you personally, only about other professionals with the first name \"Vipin.\" If you would like to be introduced professionally, you could say:\\n\\n> **Hi, I\\'m Vipin, a Data Scientist.**\\n\\nIf you want to add more details about your experience, skills, or projects, you can update your introduction accordingly. The search results only reference other Vipins in the data science field, not your specific background[1][2][4].', additional_kwargs={'citations': ['https://theorg.com/org/epsilon/org-chart/vipin-sharma', 'https://www.datascience.salon/miami/vipin-kataria/', 'https://cse.umn.edu/dsi/vipin-kumar', 'https://standardresume.co/r/vipinmathew', 'https://cse.umn.edu/datascience/news/vipin-kumar-appointed-first-director-data-science-initiative', 'https://scholar.google.com/citations?user=BnxU9TEAAAAJ&hl=en'], 'search_results': [{'title': 'Vipin Sharma - Lead Data Scientist at Epsilon - The Org', 'url': 'https://theorg.com/org/epsilon/org-chart/vipin-sharma', 'date': None, 'last_updated': None, 'snippet': 'Vipin Sharma is a seasoned data scientist with extensive experience in data analytics and engineering. Currently serving as Lead Data Scientist at Epsilon ...', 'source': 'web'}, {'title': 'Vipin Kataria - Data Science Salon Miami 2025', 'url': 'https://www.datascience.salon/miami/vipin-kataria/', 'date': None, 'last_updated': None, 'snippet': 'Vipin Kataria is a Senior Lead Architect with 21+ years of experience building enterprise-scale cloud data platforms with deep ML and data engineering ...', 'source': 'web'}, {'title': 'Vipin Kumar - College of Science & Engineering', 'url': 'https://cse.umn.edu/dsi/vipin-kumar', 'date': None, 'last_updated': None, 'snippet': 'Vipin Kumar is a Regents Professor in The department of Data Science Initiative. at the University of Minnesota.', 'source': 'web'}, {'title': 'Vipin Mathew - Data Scientist at Barclays - Standard Resume', 'url': 'https://standardresume.co/r/vipinmathew', 'date': None, 'last_updated': '2025-04-09', 'snippet': 'I work as a Full Stack Data Scientist and successfully delivered data science projects to production. Expertise in Statistical learning, Machine learning, ...', 'source': 'web'}, {'title': 'Vipin Kumar appointed first director of Data Science Initiative', 'url': 'https://cse.umn.edu/datascience/news/vipin-kumar-appointed-first-director-data-science-initiative', 'date': None, 'last_updated': None, 'snippet': 'University of Minnesota College of Science and Engineering (CSE) Dean Mos Kaveh has appointed Regents Professor Vipin Kumar as the first director of the new CSE ...', 'source': 'web'}, {'title': '\\u202aVipin Kumar\\u202c - \\u202aGoogle Scholar\\u202c', 'url': 'https://scholar.google.com/citations?user=BnxU9TEAAAAJ&hl=en', 'date': '2018-01-01', 'last_updated': '2025-03-06', 'snippet': 'Vipin Kumar. University of Minnesota. Verified email at umn.edu - Homepage ... Theory-guided data science: A new paradigm for scientific discovery from data.', 'source': 'web'}]}, response_metadata={'model_name': 'sonar'}, id='run--2925d5a5-a461-4792-aadb-6a2fa9616a46-0', usage_metadata={'input_tokens': 274, 'output_tokens': 116, 'total_tokens': 390})"
      ]
     },
     "execution_count": 16,
     "metadata": {},
     "output_type": "execute_result"
    }
   ],
   "source": [
    "with_message_history.invoke(\n",
    "    [HumanMessage(content=\"what is my name?\")],\n",
    "    config=config\n",
    ")"
   ]
  },
  {
   "cell_type": "code",
   "execution_count": null,
   "id": "2674e6d7",
   "metadata": {},
   "outputs": [
    {
     "data": {
      "text/plain": [
       "\"I do not know your name because it has not been provided in our conversation or the search results. Identifying a person's name requires explicit input or textual context containing that information, which is not present here[1][2][3]. If you share your name, I can then address you accordingly.\""
      ]
     },
     "execution_count": 19,
     "metadata": {},
     "output_type": "execute_result"
    }
   ],
   "source": [
    "# What if we change the session id\n",
    "config1={\"configurable\":{\"session_id\":\"chat2\"}}\n",
    "response=with_message_history.invoke(\n",
    "    [HumanMessage(content=\"what is my name?\")],\n",
    "    config=config1\n",
    ")\n",
    "response.content"
   ]
  },
  {
   "cell_type": "code",
   "execution_count": null,
   "id": "7edb12cb",
   "metadata": {},
   "outputs": [
    {
     "data": {
      "text/plain": [
       "'Your name is **Ishu**, a unisex Indian name with Hindu origins. It is commonly understood to mean **Lord Shiva, the ultimate reality, the supreme being**. The name Ishu is often a short form of names like Ishita or Ishaan and is appreciated for its simplicity, sweetness, and positive connotations of charm and innocence[1]. \\n\\nAdditionally, Ishu can mean **angel, sweet, lovely, beautiful** and is associated with the Aries zodiac sign (Mesha) and the Nakshatra Krittika in Hindu astrology[2]. The name is easy to pronounce as \"ISH-oo,\" with emphasis on the first syllable[1].'"
      ]
     },
     "execution_count": 20,
     "metadata": {},
     "output_type": "execute_result"
    }
   ],
   "source": [
    "response=with_message_history.invoke(\n",
    "    [HumanMessage(content=\"Hey My name is Ishu\")],\n",
    "    config=config1\n",
    ")\n",
    "response.content"
   ]
  },
  {
   "cell_type": "code",
   "execution_count": null,
   "id": "df66276e",
   "metadata": {},
   "outputs": [
    {
     "data": {
      "text/plain": [
       "'Your name is **Ishu**. It is a unisex Indian name of Hindu origin, commonly understood to mean **Lord Shiva, the ultimate reality, the supreme being**. It is also associated with meanings like **angel, sweet, lovely, and beautiful**, and is derived from Sanskrit and Hindu cultural roots[1][2][3]. The name Ishu is easy to pronounce as \"ISH-oo,\" with the emphasis on the first syllable[1].'"
      ]
     },
     "execution_count": 21,
     "metadata": {},
     "output_type": "execute_result"
    }
   ],
   "source": [
    "response=with_message_history.invoke(\n",
    "    [HumanMessage(content=\"Whats my name\")],\n",
    "    config=config1\n",
    ")\n",
    "response.content"
   ]
  },
  {
   "cell_type": "code",
   "execution_count": null,
   "id": "e21030a5",
   "metadata": {},
   "outputs": [],
   "source": []
  },
  {
   "cell_type": "markdown",
   "id": "79d4806e",
   "metadata": {},
   "source": [
    "### `Now we'll use PromptTemplate`"
   ]
  },
  {
   "cell_type": "code",
   "execution_count": null,
   "id": "7161a26e",
   "metadata": {},
   "outputs": [],
   "source": [
    "from langchain_core.prompts import ChatPromptTemplate, MessagesPlaceholder\n",
    "prompt = ChatPromptTemplate.from_messages([\n",
    "    (\"system\", \"You are a helpful assistant that helps people find information.\"),\n",
    "    MessagesPlaceholder(variable_name=\"messages\")\n",
    "])\n",
    "chain = prompt | model"
   ]
  },
  {
   "cell_type": "code",
   "execution_count": null,
   "id": "2bf57d9d",
   "metadata": {},
   "outputs": [
    {
     "data": {
      "text/plain": [
       "AIMessage(content='You are Vipin, a male given name of Indian origin derived from the Sanskrit word \"vipina,\" meaning **\"forest,\" \"grove,\" or \"woodland.\"** The name implies a connection to nature, tranquility, and abundance, often symbolizing peace and natural beauty[1][3][7][9].\\n\\nVipin is primarily used in Hindi and Sanskrit-speaking communities and is considered a short, easy-to-pronounce name with five letters. It is associated with qualities such as strength, courage, and calmness, and it holds cultural and religious significance in Hindu traditions[3][5][7].\\n\\nNotable individuals with this name include Vipin Sharma, a respected Indian actor known for versatile roles in Hindi cinema[1]. The name is popular in India and several Middle Eastern countries, including the United Arab Emirates and Saudi Arabia[1].\\n\\nIn summary, your name reflects a deep cultural heritage tied to nature and serenity.', additional_kwargs={'citations': ['https://www.wisdomlib.org/names/vipin', 'https://preply.com/en/tutor/4096751', 'https://hamariweb.com/names/hindu/hindi/boy/vipin-meaning_9633/', 'https://www.youtube.com/channel/UCqJck8HKbmZyCVsVG0PDm2Q', 'https://www.youtube.com/watch?v=Q0rdIfmkez8', 'https://www.wisdomlib.org/definition/vipina', 'https://www.behindthename.com/name/vipin', 'https://momcozy.com/blogs/baby-names/vipin', 'https://www.names.org/n/vipin/about'], 'search_results': [{'title': 'Meaning of the name Vipin', 'url': 'https://www.wisdomlib.org/names/vipin', 'date': '2025-06-14', 'last_updated': '2025-09-02', 'snippet': 'Vipin is a male given name of Indian origin, primarily used in Sanskrit and Hindi. The name means \"forest,\" \"grove,\" or \"woodland,\" implying a ...', 'source': 'web'}, {'title': 'Vipin L., Your Personal Javascript Coach | Learn with JavaScript ...', 'url': 'https://preply.com/en/tutor/4096751', 'date': None, 'last_updated': None, 'snippet': \"Hi, I'm Vipin from India! I hold an Engineering degree and have experience working with multiple programming languages. On Preply, I'm excited to focus my ...\", 'source': 'web'}, {'title': 'Vipin Name Meaning - Vipin Origin, Popularity & History', 'url': 'https://hamariweb.com/names/hindu/hindi/boy/vipin-meaning_9633/', 'date': '2025-05-11', 'last_updated': '2025-09-21', 'snippet': 'The name Vipin means the forest in Sanskrit, and has an Hindi origin. It is a relatively short name with 5 letters, and it holds significant appeal due to its ...', 'source': 'web'}, {'title': 'Vipin Patel - YouTube', 'url': 'https://www.youtube.com/channel/UCqJck8HKbmZyCVsVG0PDm2Q', 'date': None, 'last_updated': None, 'snippet': \"Vipin Patel. @vipinpatel1500. 651 subscribers•25 videos. Hey guys! I'm Vipin, welcome to my channel. ...more. Hey guys! I'm Vipin, welcome to my channel. ...\", 'source': 'web'}, {'title': 'Vipin - Baby Boy Name Meaning, Origin & Popularity - YouTube', 'url': 'https://www.youtube.com/watch?v=Q0rdIfmkez8', 'date': '2025-09-28', 'last_updated': '2025-09-29', 'snippet': 'Vipin - Baby Boy Name Meaning, Origin & Popularity - RandomNames.com Have you ever thought about the meaning and origins of the name Vipin?', 'source': 'web'}, {'title': 'Vipina, Vipiṇa: 21 definitions - Wisdom Library', 'url': 'https://www.wisdomlib.org/definition/vipina', 'date': '2025-05-16', 'last_updated': '2025-07-21', 'snippet': 'Vipina (विपिन) or Vipinagaja refers to “wild elephants”, according to the 15th century Mātaṅgalīlā composed by Nīlakaṇṭha in 263 Sanskrit verses, ...', 'source': 'web'}, {'title': 'Meaning, origin and history of the name Vipin', 'url': 'https://www.behindthename.com/name/vipin', 'date': '2024-10-06', 'last_updated': '2025-06-07', 'snippet': 'Meaning & History. From Sanskrit विपिन (vipina) meaning \"forest\". Related Names. Family Tree·Details. Rootvipina. VariantsBipin(Hindi) Bipin(Marathi) ...', 'source': 'web'}, {'title': 'Vipin Baby Name Meaning, Origin, Popularity Insights | Momcozy', 'url': 'https://momcozy.com/blogs/baby-names/vipin', 'date': '2025-05-08', 'last_updated': '2025-05-30', 'snippet': 'The most comprehensive details about baby name Vipin include its origins, meaning, historical popularity, and variations in the Momcozy Name Generator.', 'source': 'web'}, {'title': 'What Does The Name Vipin Mean? - Names.org', 'url': 'https://www.names.org/n/vipin/about', 'date': '2020-01-01', 'last_updated': '2025-08-26', 'snippet': 'According to 5 people from all over the world, the name Vipin is of Indian (Sanskrit) origin and means \"Forest\". A submission from India says the name Vipin ...', 'source': 'web'}]}, response_metadata={'model_name': 'sonar'}, id='run--f32ba087-8260-49ea-be37-692a3d25ebed-0', usage_metadata={'input_tokens': 18, 'output_tokens': 195, 'total_tokens': 213})"
      ]
     },
     "execution_count": 29,
     "metadata": {},
     "output_type": "execute_result"
    }
   ],
   "source": [
    "response = chain.invoke({\n",
    "    \"messages\":[HumanMessage(content=\"Hi i'm Vipin.\")]\n",
    "})\n",
    "response"
   ]
  },
  {
   "cell_type": "code",
   "execution_count": null,
   "id": "3d44a731",
   "metadata": {},
   "outputs": [],
   "source": [
    "with_message_history = RunnableWithMessageHistory(chain, get_session_history)\n",
    "config_2 = {\"configurable\":{\"session_id\":\"chat_3\"}}\n",
    "\n",
    "response=with_message_history.invoke(HumanMessage(content=\"Hello I'm Vipin\"),config=config_2)"
   ]
  },
  {
   "cell_type": "code",
   "execution_count": null,
   "id": "bfbf261f",
   "metadata": {},
   "outputs": [
    {
     "data": {
      "text/plain": [
       "'Hello Vipin. Your name is of Indian origin, derived from the Sanskrit word \"vipina\" (विपिन), meaning **\"forest,\" \"grove,\" or \"woodland.\"** It symbolizes a connection to nature, tranquility, and abundance, often associated with peace and natural beauty[1][3][6][8].\\n\\nThe name Vipin is primarily used in Hindi and Sanskrit-speaking communities and is a popular choice for boys in Hindu culture. It carries connotations of strength, courage, and a calm disposition[3][4]. The name is relatively short, consisting of five letters, and is associated with the lucky number 7, which is linked to leadership and independence[3].\\n\\nNotable people named Vipin include Vipin Sharma, a renowned Indian actor known for his roles in Hindi cinema, especially in the film \"Taare Zameen Par\"[1].\\n\\nIf you want to know more about the cultural or historical significance of your name, or about people named Vipin, feel free to ask!'"
      ]
     },
     "execution_count": 31,
     "metadata": {},
     "output_type": "execute_result"
    }
   ],
   "source": [
    "response.content"
   ]
  },
  {
   "cell_type": "code",
   "execution_count": null,
   "id": "3d8814c9",
   "metadata": {},
   "outputs": [],
   "source": [
    "## Bit more complex\n",
    "prompt=ChatPromptTemplate.from_messages([\n",
    "    (\"system\",\"You are a helpful assistant. That answers questions woth its best ability in this {language}.\"),\n",
    "    MessagesPlaceholder(variable_name=\"messages\")\n",
    "])\n",
    "\n",
    "chain=prompt | model"
   ]
  },
  {
   "cell_type": "code",
   "execution_count": null,
   "id": "7a2afd47",
   "metadata": {},
   "outputs": [],
   "source": [
    "current_response=chain.invoke({\n",
    "    \"messages\":[HumanMessage(content=\"Hi,i'm Vipin.\")],\n",
    "    \"language\":\"hindi\",   \n",
    "})"
   ]
  },
  {
   "cell_type": "code",
   "execution_count": null,
   "id": "722313d3",
   "metadata": {},
   "outputs": [
    {
     "data": {
      "text/plain": [
       "'नमस्ते विपिन मैं आपकी मदद के लिए यहाँ हूँ। आपका नाम विपिन संस्कृत और हिंदी मूल का है, जिसका अर्थ \"जंगल\" या \"वन\" होता है [1][3][5]। यह नाम प्राकृतिक सौंदर्य, शांति और समृद्धि से जुड़ा हुआ है और अक्सर एक शांत और समृद्ध स्वभाव को दर्शाता है [1][4]। \\n\\nअगर आपके पास कोई विशिष्ट प्रश्न या जानकारी चाहिए, तो कृपया बताएं। मैं आपकी सहायता करने के लिए तैयार हूँ।'"
      ]
     },
     "execution_count": 48,
     "metadata": {},
     "output_type": "execute_result"
    }
   ],
   "source": [
    "current_response.content"
   ]
  },
  {
   "cell_type": "code",
   "execution_count": null,
   "id": "ce1e703a",
   "metadata": {},
   "outputs": [],
   "source": [
    "with_message_history=RunnableWithMessageHistory(\n",
    "    chain,\n",
    "    get_session_history,\n",
    "    input_messages_key=\"messages\"\n",
    ")"
   ]
  },
  {
   "cell_type": "code",
   "execution_count": null,
   "id": "6c604745",
   "metadata": {},
   "outputs": [],
   "source": [
    "config_3={\"configurable\":{\"session_id\":\"chat_4\"}}\n",
    "response_last = with_message_history.invoke(\n",
    "    {\"messages\": [HumanMessage(content=\"Hi, I'm Vipin\")], \"language\": \"hindi\"},\n",
    "    config=config_3\n",
    ")"
   ]
  },
  {
   "cell_type": "code",
   "execution_count": null,
   "id": "282630f5",
   "metadata": {},
   "outputs": [
    {
     "data": {
      "text/plain": [
       "'आपका नाम **विपिन** है, जो संस्कृत और हिंदी भाषा में एक पुरुष नाम है। इसका अर्थ होता है **\"वन,\" \"जंगल,\" या \"वनस्पति क्षेत्र\"**। यह नाम प्रकृति, शांति और समृद्धि का प्रतीक माना जाता है और यह एक शांतिपूर्ण और सुंदर स्वभाव का परिचायक है। विपिन नाम संस्कृत शब्द \"विपिन\" (vipina) से उत्पन्न हुआ है, जिसका आशय जंगल या वन से है[1][3][6][8]।\\n\\nइसके अतिरिक्त, विपिन नाम का प्रयोग भारत के साथ-साथ संयुक्त अरब अमीरात, सऊदी अरब, ओमान और कुवैत जैसे देशों में भी लोकप्रिय है[1]। यह नाम सरल उच्चारण वाला और पाँच अक्षरों का होता है[3]। हिन्दू संस्कृति में इस नाम को साहस, शक्ति और दिव्य आशीर्वाद का प्रतीक माना जाता है[3][4]।\\n\\nअगर आप चाहें तो आपके नाम से जुड़ी और जानकारी, जैसे नाम की लोकप्रियता, समान नाम, या नाम का लकी नंबर (७ माना जाता है, जो नेतृत्व और आत्मविश्वास का सूचक है) भी प्राप्त की जा सकती है[3]।'"
      ]
     },
     "execution_count": 65,
     "metadata": {},
     "output_type": "execute_result"
    }
   ],
   "source": [
    "response_last.content"
   ]
  },
  {
   "cell_type": "code",
   "execution_count": null,
   "id": "f7da4172",
   "metadata": {},
   "outputs": [],
   "source": [
    "\"Nothing for today!\""
   ]
  }
 ],
 "metadata": {
  "kernelspec": {
   "display_name": "base",
   "language": "python",
   "name": "python3"
  },
  "language_info": {
   "codemirror_mode": {
    "name": "ipython",
    "version": 3
   },
   "file_extension": ".py",
   "mimetype": "text/x-python",
   "name": "python",
   "nbconvert_exporter": "python",
   "pygments_lexer": "ipython3",
   "version": "3.12.4"
  }
 },
 "nbformat": 4,
 "nbformat_minor": 5
}
