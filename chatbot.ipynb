{
 "cells": [
  {
   "cell_type": "code",
   "execution_count": 46,
   "id": "a6e550e2",
   "metadata": {},
   "outputs": [
    {
     "name": "stdout",
     "output_type": "stream",
     "text": [
      "a\n"
     ]
    }
   ],
   "source": [
    "print(\"a\")"
   ]
  },
  {
   "cell_type": "code",
   "execution_count": 47,
   "id": "548f9d8b",
   "metadata": {},
   "outputs": [
    {
     "data": {
      "text/plain": [
       "True"
      ]
     },
     "execution_count": 47,
     "metadata": {},
     "output_type": "execute_result"
    }
   ],
   "source": [
    "from langchain_perplexity import ChatPerplexity\n",
    "from langchain_core.prompts import ChatPromptTemplate\n",
    "from langchain_core.messages import SystemMessage, HumanMessage, AIMessage\n",
    "from dotenv import load_dotenv\n",
    "import os   \n",
    "load_dotenv()"
   ]
  },
  {
   "cell_type": "code",
   "execution_count": 48,
   "id": "f8e3c73e",
   "metadata": {},
   "outputs": [
    {
     "data": {
      "text/plain": [
       "AIMessage(content='Hi Vipin, as a Data Scientist, your role typically involves **analyzing complex data to extract insights, developing statistical and machine learning models, and using these insights to drive business decisions**. Your work includes data collection, cleaning, exploratory analysis, model building, evaluation, and communicating results to stakeholders[1][3][7][12][13].\\n\\nKey responsibilities often cover:\\n\\n- Asking the right questions to guide data discovery.\\n- Acquiring, cleaning, and integrating data from various sources.\\n- Applying machine learning, statistical modeling, and AI techniques.\\n- Designing and testing models to predict trends or behaviors.\\n- Collaborating with cross-functional teams (data engineers, analysts, business units).\\n- Presenting findings visually and in reports.\\n- Iterating based on feedback to improve models or solve new problems[1][3][7][12][13].\\n\\nTypical qualifications and skills for a Data Scientist include:\\n\\n- Bachelor’s or Master’s degree in quantitative fields like computer science, statistics, mathematics, or data science.\\n- Strong programming skills in Python or R, and knowledge of SQL for database querying.\\n- Experience with machine learning libraries (scikit-learn, TensorFlow, PyTorch).\\n- Proficiency in data visualization tools (Tableau, Power BI, matplotlib).\\n- Strong analytical, statistical, and problem-solving abilities.\\n- Effective communication skills to work collaboratively and present results clearly[3][7][12].\\n\\nYour personal interests, such as your focus on Python, Scala, and AI in computer vision, align well with the advanced technical skills commonly associated with the role[8].\\n\\nIf you want, I can provide more detailed insights or resources tailored to your interests or career stage.', additional_kwargs={'citations': ['https://graduate.northeastern.edu/knowledge-hub/what-does-a-data-scientist-do/', 'https://cse.umn.edu/cs/news/vipin-kumar-appointed-first-director-data-science-initiative', 'https://www.datascience-pm.com/data-science-roles/', 'https://www.youtube.com/watch?v=47YClVMlthI', 'https://www.bls.gov/ooh/math/data-scientists.htm', 'https://www.youtube.com/watch?v=KJ73y8Ons20', 'https://und.edu/blog/data-science-roles-and-responsibilities.html', 'https://github.com/vipinindoria', 'https://www.robertwalters.us/insights/hiring-advice/blog/the-role-of-a-data-scientist.html', 'https://www.youtube.com/watch?v=ZFsbA4e910I', 'https://www.coursera.org/articles/what-is-a-data-scientist', 'https://www.indeed.com/hire/job-description/data-scientist', 'https://www.simplilearn.com/data-scientist-job-description-article'], 'search_results': [{'title': 'What Does a Data Scientist Do? - Role & Responsibilities', 'url': 'https://graduate.northeastern.edu/knowledge-hub/what-does-a-data-scientist-do/', 'date': '2025-01-10', 'last_updated': '2025-10-19', 'snippet': '', 'source': 'web'}, {'title': 'Vipin Kumar appointed first director of Data Science Initiative', 'url': 'https://cse.umn.edu/cs/news/vipin-kumar-appointed-first-director-data-science-initiative', 'date': None, 'last_updated': '2023-11-11', 'snippet': '', 'source': 'web'}, {'title': 'Data Science Roles - A Definitive Guide', 'url': 'https://www.datascience-pm.com/data-science-roles/', 'date': '2024-11-16', 'last_updated': '2025-05-09', 'snippet': '', 'source': 'web'}, {'title': 'Justin Bieber - Confident ft. Chance The Rapper - YouTube', 'url': 'https://www.youtube.com/watch?v=47YClVMlthI', 'date': '2014-01-29', 'last_updated': '2025-09-29', 'snippet': '', 'source': 'web'}, {'title': 'Data Scientists : Occupational Outlook Handbook', 'url': 'https://www.bls.gov/ooh/math/data-scientists.htm', 'date': '2025-08-28', 'last_updated': '2025-10-20', 'snippet': '', 'source': 'web'}, {'title': 'What I *actually* do as a Data Scientist (everything you need to know)', 'url': 'https://www.youtube.com/watch?v=KJ73y8Ons20', 'date': '2024-05-20', 'last_updated': '2025-08-06', 'snippet': '', 'source': 'web'}, {'title': 'Key Insights on 7 Data Science Roles, Responsibilities and Skills', 'url': 'https://und.edu/blog/data-science-roles-and-responsibilities.html', 'date': '2024-08-14', 'last_updated': '2025-10-20', 'snippet': '', 'source': 'web'}, {'title': 'Vipin Indoria vipinindoria - GitHub', 'url': 'https://github.com/vipinindoria', 'date': None, 'last_updated': None, 'snippet': '', 'source': 'web'}, {'title': 'The role of a data scientist - Robert Walters USA', 'url': 'https://www.robertwalters.us/insights/hiring-advice/blog/the-role-of-a-data-scientist.html', 'date': '2022-08-02', 'last_updated': '2025-06-12', 'snippet': '', 'source': 'web'}, {'title': 'Learn Python for Data Science (with Real Python) - YouTube', 'url': 'https://www.youtube.com/watch?v=ZFsbA4e910I', 'date': '2020-09-09', 'last_updated': '2025-08-21', 'snippet': '', 'source': 'web'}, {'title': 'What Is a Data Scientist? Salary, Duties + How to Become One', 'url': 'https://www.coursera.org/articles/what-is-a-data-scientist', 'date': '2025-10-14', 'last_updated': '2025-10-19', 'snippet': '', 'source': 'web'}, {'title': 'Data Scientist Job Description [Updated for 2025] - Indeed', 'url': 'https://www.indeed.com/hire/job-description/data-scientist', 'date': '2025-03-04', 'last_updated': '2025-10-15', 'snippet': '', 'source': 'web'}, {'title': 'Data Scientist Job Description: Role, Responsibilities, and More', 'url': 'https://www.simplilearn.com/data-scientist-job-description-article', 'date': '2025-10-14', 'last_updated': '2025-08-05', 'snippet': '', 'source': 'web'}]}, response_metadata={'model_name': 'sonar'}, id='run--db32fa41-661d-47f1-8d6b-f06500799008-0', usage_metadata={'input_tokens': 13, 'output_tokens': 342, 'total_tokens': 355})"
      ]
     },
     "execution_count": 48,
     "metadata": {},
     "output_type": "execute_result"
    }
   ],
   "source": [
    "if \"PPLX_API_KEY\" not in os.environ:\n",
    "    raise ValueError(\"PPLX_API_KEY not found in environment variables. Please set it before running the script.\")\n",
    "\n",
    "else:\n",
    "    model=ChatPerplexity(name=\"sonar\")\n",
    "    repsonse = model.invoke([HumanMessage(content=\"Hi, I'm Vipin and I am a Data Scientist\")])\n",
    "\n",
    "repsonse\n"
   ]
  },
  {
   "cell_type": "code",
   "execution_count": 49,
   "id": "ff6de675",
   "metadata": {},
   "outputs": [
    {
     "data": {
      "text/plain": [
       "AIMessage(content='Your name is Vipin and your role is **Data Scientist**.\\n\\nAs a Data Scientist, your primary responsibilities include collecting, cleaning, and analyzing large datasets to extract actionable insights that drive business decisions[1][2][3]. You develop predictive models using machine learning and statistical techniques, collaborate with cross-functional teams to integrate data insights into business strategies, and communicate findings through reports and visualizations[1][3][4]. Your expertise typically spans programming (Python, R, SQL), statistics, and machine learning, and you may also design experiments, automate data processes, and continuously improve data collection and analysis frameworks[3][4][5].', additional_kwargs={'citations': ['https://www.indeed.com/hire/job-description/data-scientist', 'https://www.simplilearn.com/data-scientist-job-description-article', 'https://und.edu/blog/data-science-roles-and-responsibilities.html', 'https://www.datascience-pm.com/data-science-roles/', 'https://graduate.northeastern.edu/knowledge-hub/what-does-a-data-scientist-do/', 'https://www.robertwalters.us/insights/hiring-advice/blog/the-role-of-a-data-scientist.html', 'https://www.bls.gov/ooh/math/data-scientists.htm', 'https://www.coursera.org/articles/what-is-a-data-scientist'], 'search_results': [{'title': 'Data Scientist Job Description [Updated for 2025] - Indeed', 'url': 'https://www.indeed.com/hire/job-description/data-scientist', 'date': '2025-03-04', 'last_updated': '2025-10-15', 'snippet': 'Here are some common duties and responsibilities of a Data Scientist: Collecting data through means such as analyzing business results or by setting up and ...', 'source': 'web'}, {'title': 'Data Scientist Job Description: Role, Responsibilities, and More', 'url': 'https://www.simplilearn.com/data-scientist-job-description-article', 'date': '2025-10-14', 'last_updated': '2025-08-05', 'snippet': \"A data scientist's job is to analyze data, extract insights, and build predictive models that help organizations make smarter decisions and ...\", 'source': 'web'}, {'title': 'Key Insights on 7 Data Science Roles, Responsibilities and Skills', 'url': 'https://und.edu/blog/data-science-roles-and-responsibilities.html', 'date': '2024-08-14', 'last_updated': '2025-10-20', 'snippet': 'Key responsibilities include: Gathering and cleaning data and conducting exploratory data analysis.', 'source': 'web'}, {'title': 'Data Science Roles - A Definitive Guide', 'url': 'https://www.datascience-pm.com/data-science-roles/', 'date': '2024-11-16', 'last_updated': '2025-05-09', 'snippet': 'Typical Responsibilities:\\u200b\\u200b Ensure data quality, accuracy, and consistency across multiple data sources. Work with data scientists, data analysts, and other ...', 'source': 'web'}, {'title': 'What Does a Data Scientist Do? - Role & Responsibilities', 'url': 'https://graduate.northeastern.edu/knowledge-hub/what-does-a-data-scientist-do/', 'date': '2025-01-10', 'last_updated': '2025-10-19', 'snippet': 'Put simply, data scientists develop processes for modeling data, while data analysts examine data sets to identify trends and draw conclusions.', 'source': 'web'}, {'title': 'The role of a data scientist - Robert Walters USA', 'url': 'https://www.robertwalters.us/insights/hiring-advice/blog/the-role-of-a-data-scientist.html', 'date': '2022-08-02', 'last_updated': '2025-06-12', 'snippet': 'Data scientists are the backbone of any organization that relies on data. They help companies interpret, manage, and leverage data to solve complex problems.', 'source': 'web'}, {'title': 'Data Scientists : Occupational Outlook Handbook', 'url': 'https://www.bls.gov/ooh/math/data-scientists.htm', 'date': '2025-08-28', 'last_updated': '2025-10-20', 'snippet': 'Duties · Determine which data are available and useful for the project · Collect, categorize, and analyze data · Create, validate, test, and update algorithms and ...', 'source': 'web'}, {'title': 'What Is a Data Scientist? Salary, Duties + How to Become One', 'url': 'https://www.coursera.org/articles/what-is-a-data-scientist', 'date': '2025-10-14', 'last_updated': '2025-10-19', 'snippet': 'What does a data scientist do? · Find patterns and trends in datasets to uncover insights · Create algorithms and data models to forecast outcomes.', 'source': 'web'}]}, response_metadata={'model_name': 'sonar'}, id='run--ad220bcf-83f0-4f67-9112-1ae173ab17d6-0', usage_metadata={'input_tokens': 428, 'output_tokens': 130, 'total_tokens': 558})"
      ]
     },
     "execution_count": 49,
     "metadata": {},
     "output_type": "execute_result"
    }
   ],
   "source": [
    "response=model.invoke([\n",
    "    HumanMessage(content=\"Hi, I'm Vipin and I am a Data Scientist\"),\n",
    "    AIMessage(content=\"Hi Vipin, as a Data Scientist, your role involves collecting, processing, analyzing, and modeling data to extract actionable insights that help businesses make informed decisions. You likely work with programming languages such as Python and Scala, especially in areas like AI and computer vision, as you've indicated in your GitHub profile[2].\\n\\nMore specifically, Data Scientists typically:\\n\\n- Collect data by analyzing business results or setting up studies and manage data storage and integration[1][7].\\n- Cleanse, preprocess, and validate data to ensure quality and consistency[3][5][7].\\n- Use statistical methods and machine learning algorithms to build predictive models and forecast trends[3][5][6].\\n- Develop new frameworks and tools to automate data collection and analysis[1][6].\\n- Analyze large and complex datasets to find patterns, correlations, and actionable insights[1][3][6].\\n- Create reports, visualizations, and presentations to communicate findings clearly to business stakeholders[1][3][5][6].\\n- Collaborate with cross-functional teams including marketing, finance, operations, IT, and business units to integrate data-driven strategies[3][5][6].\\n- Continuously enhance data collection and analysis procedures to support evolving analytic needs[3].\\n\\nIn terms of skills and qualifications, Data Scientists often have strong programming expertise in Python and R (and Scala in your case), proficiency with SQL for querying databases, and a solid foundation in statistics, mathematics, and machine learning frameworks such as scikit-learn, TensorFlow, or PyTorch[5][6]. Advanced degrees in quantitative fields and certifications in data science or machine learning can be common and beneficial[5].\\n\\nYour focus on AI in computer vision aligns well with the typical scope of advanced data science roles that apply machine learning to image and video data, requiring specialized knowledge in deep learning and computer vision algorithms[2].\\n\\nOverall, your role as a Data Scientist positions you as a key contributor to leveraging data for strategic business insights and innovative AI solutions[1][3][6].\"),\n",
    "    HumanMessage(content=\"What is my name and role?\")\n",
    "]\n",
    ")\n",
    "response"
   ]
  },
  {
   "cell_type": "code",
   "execution_count": 50,
   "id": "a17f6736",
   "metadata": {},
   "outputs": [],
   "source": [
    "from langchain_community.chat_message_histories import ChatMessageHistory\n",
    "from langchain_core.chat_history import BaseChatMessageHistory\n",
    "from langchain_core.runnables.history import RunnableWithMessageHistory\n",
    "\n",
    "store={}\n",
    "\n",
    "def get_session_history(session_id: str)-> BaseChatMessageHistory:\n",
    "    if session_id not in store:\n",
    "        store[session_id]=ChatMessageHistory()\n",
    "    return store[session_id]\n",
    "\n",
    "with_message_history=RunnableWithMessageHistory(model,get_session_history)"
   ]
  },
  {
   "cell_type": "code",
   "execution_count": 51,
   "id": "e6001a63",
   "metadata": {},
   "outputs": [],
   "source": [
    "config={\"configurable\":{\"session_id\":\"chat1\"}}"
   ]
  },
  {
   "cell_type": "code",
   "execution_count": 52,
   "id": "cfe7354f",
   "metadata": {},
   "outputs": [
    {
     "data": {
      "text/plain": [
       "'## Professional Profile\\n\\nVipin is a Data Scientist with a stated interest in artificial intelligence, particularly within the field of computer vision[2]. His preferred programming languages are Python and Scala, which are widely used in data science for data analysis, machine learning, and building scalable systems[2]. This focus suggests expertise in developing and deploying models that enable machines to interpret and analyze visual data, a rapidly growing area in AI.\\n\\n## Typical Data Scientist Responsibilities\\n\\nAs a Data Scientist, Vipin’s day-to-day work likely involves:\\n\\n- **Data Collection and Preprocessing:** Gathering data from various sources, cleaning and organizing it to ensure quality and usability for analysis[1][3][5].\\n- **Exploratory Data Analysis:** Investigating datasets to uncover patterns, anomalies, and insights that inform business decisions[5][9].\\n- **Model Development:** Building and optimizing machine learning models, especially in computer vision, using frameworks like TensorFlow or PyTorch[2][5].\\n- **Algorithm Implementation:** Creating and validating algorithms to solve specific problems, often involving large-scale data[10].\\n- **Data Visualization and Reporting:** Communicating findings through clear visualizations and reports to stakeholders[1][5].\\n- **Collaboration:** Working with cross-functional teams—including business analysts, engineers, and product managers—to integrate data-driven solutions into business processes[5][7].\\n\\n## Skills and Qualifications\\n\\nTo excel in this role, Vipin would typically possess:\\n\\n- **Technical Proficiency:** Strong programming skills in Python and Scala, with experience in data manipulation, statistical analysis, and machine learning libraries[2][5][7].\\n- **Mathematical Foundation:** Solid understanding of statistics, probability, linear algebra, and calculus, which are fundamental to developing and evaluating models[4][5].\\n- **Domain Knowledge:** Expertise in computer vision, including techniques for image classification, object detection, and segmentation[2].\\n- **Tools and Technologies:** Familiarity with SQL for database querying, data visualization tools (e.g., Matplotlib, Tableau), and cloud platforms for scalable computing[5][7].\\n- **Soft Skills:** Effective communication to translate technical findings into actionable business insights, and the ability to work collaboratively in team settings[5][7].\\n\\n## Career Path and Growth\\n\\nData science is a high-demand field, with roles often requiring at least a bachelor’s degree in computer science, statistics, mathematics, or a related field, and many professionals hold advanced degrees or industry certifications[5][7]. Continuous learning—through courses, certifications, and hands-on projects—is essential to stay current with evolving tools and techniques[3][4].\\n\\nVipin’s specialization in AI and computer vision positions him well for roles in industries leveraging visual data, such as healthcare (medical imaging), automotive (autonomous vehicles), retail (visual search), and security (surveillance systems).\\n\\n## Summary Table: Data Scientist Profile\\n\\n| Aspect                | Details                                                                 |\\n|-----------------------|-------------------------------------------------------------------------|\\n| Core Skills           | Python, Scala, Machine Learning, Computer Vision                        |\\n| Key Responsibilities  | Data collection, cleaning, modeling, visualization, collaboration       |\\n| Educational Background| Typically STEM degree (CS, Stats, Math, etc.)                          |\\n| Industry Applications | Healthcare, Automotive, Retail, Security, etc.                         |\\n| Growth Areas          | AI, Deep Learning, Big Data, Cloud Computing                           |\\n\\nVipin’s role as a Data Scientist is central to transforming raw data into actionable intelligence, driving innovation and decision-making across industries[1][3][5]. His focus on computer vision further distinguishes his expertise in a cutting-edge domain of artificial intelligence[2].'"
      ]
     },
     "execution_count": 52,
     "metadata": {},
     "output_type": "execute_result"
    }
   ],
   "source": [
    "resposne=with_message_history.invoke([HumanMessage(content=\"Hi, I'm Vipin and I am a Data Scientist\")],config=config)\n",
    "resposne.content"
   ]
  },
  {
   "cell_type": "code",
   "execution_count": 53,
   "id": "3ca46101",
   "metadata": {},
   "outputs": [
    {
     "data": {
      "text/plain": [
       "AIMessage(content='Your name is **Vipin**, as you introduced yourself and the search results show multiple professionals named Vipin working as Data Scientists, such as Vipin Kumar and Vipin Sharma[1][2][3][4].', additional_kwargs={'citations': ['https://cse.umn.edu/dsi/vipin-kumar', 'https://theorg.com/org/ameriprise-financial/org-chart/vipin-kumar-1', 'https://theorg.com/org/epsilon/org-chart/vipin-sharma', 'https://scholar.google.com/citations?user=BnxU9TEAAAAJ&hl=en'], 'search_results': [{'title': 'Vipin Kumar - College of Science & Engineering', 'url': 'https://cse.umn.edu/dsi/vipin-kumar', 'date': None, 'last_updated': None, 'snippet': '', 'source': 'web'}, {'title': 'Vipin Kumar - Data Scientist at Ameriprise Financial - The Org', 'url': 'https://theorg.com/org/ameriprise-financial/org-chart/vipin-kumar-1', 'date': None, 'last_updated': None, 'snippet': '', 'source': 'web'}, {'title': 'Vipin Sharma - Lead Data Scientist at Epsilon | The Org', 'url': 'https://theorg.com/org/epsilon/org-chart/vipin-sharma', 'date': '2025-05-02', 'last_updated': '2025-10-07', 'snippet': '', 'source': 'web'}, {'title': '\\u202aVipin Kumar\\u202c - \\u202aGoogle Scholar\\u202c', 'url': 'https://scholar.google.com/citations?user=BnxU9TEAAAAJ&hl=en', 'date': '2018-01-01', 'last_updated': '2025-03-06', 'snippet': '', 'source': 'web'}]}, response_metadata={'model_name': 'sonar'}, id='run--8df4b724-d083-4049-982b-6d56deb4032f-0', usage_metadata={'input_tokens': 758, 'output_tokens': 48, 'total_tokens': 806})"
      ]
     },
     "execution_count": 53,
     "metadata": {},
     "output_type": "execute_result"
    }
   ],
   "source": [
    "with_message_history.invoke(\n",
    "    [HumanMessage(content=\"what is my name?\")],\n",
    "    config=config\n",
    ")"
   ]
  },
  {
   "cell_type": "code",
   "execution_count": 54,
   "id": "2674e6d7",
   "metadata": {},
   "outputs": [
    {
     "data": {
      "text/plain": [
       "'I do not have access to your personal information, so I cannot know your name.\\n\\nIf you want to discover the origin, meaning, or cultural significance of your name, there are tools like Namsor, which can analyze names to determine their geographical and ethnic origins using AI[1][9]. You can also take personality-based quizzes that guess or suggest names based on your traits, though these are for fun and not factual identification[2][3][4].\\n\\nIf you are seeking to know your own name as recorded officially, that information is typically known only to you or documented in your personal records like a birth certificate.'"
      ]
     },
     "execution_count": 54,
     "metadata": {},
     "output_type": "execute_result"
    }
   ],
   "source": [
    "# What if we change the session id\n",
    "config1={\"configurable\":{\"session_id\":\"chat2\"}}\n",
    "response=with_message_history.invoke(\n",
    "    [HumanMessage(content=\"what is my name?\")],\n",
    "    config=config1\n",
    ")\n",
    "response.content"
   ]
  },
  {
   "cell_type": "code",
   "execution_count": 55,
   "id": "7edb12cb",
   "metadata": {},
   "outputs": [
    {
     "data": {
      "text/plain": [
       "'Your name, **Ishu**, is a unisex Indian name of Hindu origin, often interpreted to mean **\"Angel,\" \"Sweet,\" \"Lovely,\"** or **\"Beautiful\"**[3][4]. It is sometimes considered a short form of names like Ishita or Ishaan and is associated with Lord Shiva, the supreme being in Hinduism[6].\\n\\nAdditional insights about the name Ishu include:\\n\\n- It has a **numerology number 3**, which is linked to creativity and motivation[3][4].\\n- The horoscope (rashi) associated with Ishu is **Mesha (Aries)** and the Nakshatra is **Krittika**[3][4].\\n- In Kannada, the word \"Iṣu\" can mean a slender shaft or arrow, symbolizing precision and focus[2].\\n- The individual letters in Ishu represent traits such as compassion (I), charm (S), visionary qualities (H), and a balanced give-and-take nature (U)[4].\\n\\nPronounced as **\"ISH-oo,\"** the name conveys sweetness, charm, innocence, and warmth[6].'"
      ]
     },
     "execution_count": 55,
     "metadata": {},
     "output_type": "execute_result"
    }
   ],
   "source": [
    "response=with_message_history.invoke(\n",
    "    [HumanMessage(content=\"Hey My name is Ishu\")],\n",
    "    config=config1\n",
    ")\n",
    "response.content"
   ]
  },
  {
   "cell_type": "code",
   "execution_count": 56,
   "id": "df66276e",
   "metadata": {},
   "outputs": [
    {
     "data": {
      "text/plain": [
       "'Your name is **Ishu**[1][2][3]. \\n\\n**Ishu** is a unisex Indian name of Hindu origin, most commonly used in India and among Indian communities[1]. It is often interpreted to mean **\"Angel,\" \"Sweet,\" \"Lovely,\" \"Beautiful,\"** or **\"Lord Shiva, the ultimate reality, the supreme being\"**[1][2][3]. The name is short, easy to pronounce, and carries a sense of charm, innocence, and warmth[1]. It can be a short form of longer names like Ishita or Ishaan[1]. \\n\\nIn numerology, Ishu is associated with the number **3**, which is linked to creativity and motivation[2][3]. The horoscope (rashi) for Ishu is **Mesha (Aries)**, and the Nakshatra is **Krittika**[2][3]. The name is adaptable to various nicknames and is generally perceived positively for its simplicity and sweetness[1].'"
      ]
     },
     "execution_count": 56,
     "metadata": {},
     "output_type": "execute_result"
    }
   ],
   "source": [
    "response=with_message_history.invoke(\n",
    "    [HumanMessage(content=\"Whats my name\")],\n",
    "    config=config1\n",
    ")\n",
    "response.content"
   ]
  },
  {
   "cell_type": "code",
   "execution_count": null,
   "id": "e21030a5",
   "metadata": {},
   "outputs": [],
   "source": []
  },
  {
   "cell_type": "markdown",
   "id": "79d4806e",
   "metadata": {},
   "source": [
    "### `Now we'll use PromptTemplate`"
   ]
  },
  {
   "cell_type": "code",
   "execution_count": 57,
   "id": "7161a26e",
   "metadata": {},
   "outputs": [],
   "source": [
    "from langchain_core.prompts import ChatPromptTemplate, MessagesPlaceholder\n",
    "prompt = ChatPromptTemplate.from_messages([\n",
    "    (\"system\", \"You are a helpful assistant that helps people find information.\"),\n",
    "    MessagesPlaceholder(variable_name=\"messages\")\n",
    "])\n",
    "chain = prompt | model"
   ]
  },
  {
   "cell_type": "code",
   "execution_count": 58,
   "id": "2bf57d9d",
   "metadata": {},
   "outputs": [
    {
     "data": {
      "text/plain": [
       "AIMessage(content='Hello Vipin!\\n\\nIt\\'s great to meet you. The name Vipin is of Indian origin, primarily used in Sanskrit and Hindi. It means \"forest,\" \"grove,\" or \"woodland,\" symbolizing a connection to nature, tranquility, and abundance[1][3]. If you\\'re interested in learning more about the name or have specific questions, feel free to let me know', additional_kwargs={'citations': ['https://www.wisdomlib.org/names/vipin', 'https://capiointeractive.com/vipin-visualizer.html', 'https://hamariweb.com/names/hindu/hindi/boy/vipin-meaning_9633/', 'https://preply.com/en/tutor/4096751', 'https://www.youtube.com/watch?v=Q0rdIfmkez8', 'https://www.youtube.com/channel/UCqJck8HKbmZyCVsVG0PDm2Q', 'https://www.thenamemeaning.com/vipin/', 'https://www.behindthename.com/name/vipin', 'https://angelsname.com/boy/vipin/meaning-origin-numerology-personality-traits-horoscope-detailed-information-about-name-vipin', 'https://www.names.org/n/vipin/about'], 'search_results': [{'title': 'Meaning of the name Vipin', 'url': 'https://www.wisdomlib.org/names/vipin', 'date': '2025-06-14', 'last_updated': '2025-09-02', 'snippet': 'Vipin is a male given name of Indian origin, primarily used in Sanskrit and Hindi. The name means \"forest,\" \"grove,\" or \"woodland,\" implying a ...', 'source': 'web'}, {'title': 'Capio - Creative Agency Specialized in Food Branding, Corporate ...', 'url': 'https://capiointeractive.com/vipin-visualizer.html', 'date': None, 'last_updated': None, 'snippet': \"Hi! I'm Vipin. I draft the unseen. VIPIN DAVID. VISUALIZER. Vipin approaches design like an explorer discovering new terrain - led by curiosity, instinct, and ...\", 'source': 'web'}, {'title': 'Vipin Name Meaning - Vipin Origin, Popularity & History', 'url': 'https://hamariweb.com/names/hindu/hindi/boy/vipin-meaning_9633/', 'date': '2025-05-11', 'last_updated': '2025-10-18', 'snippet': 'Vipin is a Hindu Boy name with Hindi origin. The name Vipin means the forest in Sanskrit,. With a popularity rank of 7474, Vipin name lucky number is 7, which ...', 'source': 'web'}, {'title': 'Vipin L., Your Personal Javascript Coach | Learn with JavaScript ...', 'url': 'https://preply.com/en/tutor/4096751', 'date': '2025-10-10', 'last_updated': '2025-10-10', 'snippet': \"Hi, I'm Vipin from India! I hold an Engineering degree and have experience working with multiple programming languages. On Preply, I'm excited to focus my ...\", 'source': 'web'}, {'title': 'Vipin - Baby Boy Name Meaning, Origin & Popularity - YouTube', 'url': 'https://www.youtube.com/watch?v=Q0rdIfmkez8', 'date': '2025-09-28', 'last_updated': '2025-09-29', 'snippet': 'Vipin - Baby Boy Name Meaning, Origin & Popularity - RandomNames.com Have you ever thought about the meaning and origins of the name Vipin?', 'source': 'web'}, {'title': 'Vipin Patel - YouTube', 'url': 'https://www.youtube.com/channel/UCqJck8HKbmZyCVsVG0PDm2Q', 'date': None, 'last_updated': None, 'snippet': \"Vipin Patel. @vipinpatel1500. 651 subscribers•25 videos. Hey guys! I'm Vipin, welcome to my channel. ...more. Hey guys! I'm Vipin, welcome to my channel. ...\", 'source': 'web'}, {'title': 'Name Vipin Meaning, Origin etc. - Boy Names - Baby Name Vipin', 'url': 'https://www.thenamemeaning.com/vipin/', 'date': None, 'last_updated': '2023-12-07', 'snippet': 'The name Vipin is of Sanskrit origin, and is used mostly in Hindi speaking countries but also in a few other countries and languages of the world. If you ...', 'source': 'web'}, {'title': 'Meaning, origin and history of the name Vipin', 'url': 'https://www.behindthename.com/name/vipin', 'date': '2024-10-06', 'last_updated': '2025-06-07', 'snippet': 'From Sanskrit विपिन (vipina) meaning \"forest\". Related Names. Family Tree·Details. Rootvipina. VariantsBipin(Hindi) Bipin(Marathi). People think this name is.', 'source': 'web'}, {'title': 'Vipin Name Meaning, Origin, Personality Traits and Horoscope', 'url': 'https://angelsname.com/boy/vipin/meaning-origin-numerology-personality-traits-horoscope-detailed-information-about-name-vipin', 'date': None, 'last_updated': '2025-01-09', 'snippet': 'Vipin has intellectual natures. Vipin is always in search of what is interesting or true. Vipin is not easily swayed by others and is an imaginative thinker.', 'source': 'web'}, {'title': 'What Does The Name Vipin Mean? - Names.org', 'url': 'https://www.names.org/n/vipin/about', 'date': '2020-01-01', 'last_updated': '2025-10-14', 'snippet': 'According to 5 people from all over the world, the name Vipin is of Indian (Sanskrit) origin and means \"Forest\". A submission from India says the name Vipin ...', 'source': 'web'}]}, response_metadata={'model_name': 'sonar'}, id='run--47bcb8e6-0362-41ea-a298-f29bbf67f194-0', usage_metadata={'input_tokens': 18, 'output_tokens': 82, 'total_tokens': 100})"
      ]
     },
     "execution_count": 58,
     "metadata": {},
     "output_type": "execute_result"
    }
   ],
   "source": [
    "response = chain.invoke({\n",
    "    \"messages\":[HumanMessage(content=\"Hi i'm Vipin.\")]\n",
    "})\n",
    "response"
   ]
  },
  {
   "cell_type": "code",
   "execution_count": 59,
   "id": "3d44a731",
   "metadata": {},
   "outputs": [],
   "source": [
    "with_message_history = RunnableWithMessageHistory(chain, get_session_history)\n",
    "config_2 = {\"configurable\":{\"session_id\":\"chat_3\"}}\n",
    "\n",
    "response=with_message_history.invoke(HumanMessage(content=\"Hello I'm Vipin\"),config=config_2)"
   ]
  },
  {
   "cell_type": "code",
   "execution_count": 60,
   "id": "bfbf261f",
   "metadata": {},
   "outputs": [
    {
     "data": {
      "text/plain": [
       "'Hello Vipin If you\\'re looking for information about your name, here\\'s what I found:\\n\\n- **Origin and Meaning**: The name Vipin is of Sanskrit origin, commonly used in Hindi and other Indian languages. It means \"forest\" or \"grove,\" symbolizing natural beauty, peace, and prosperity[1][3][7].\\n- **Popularity and Usage**: The name is popular in countries like India, the UAE, Saudi Arabia, Oman, and Kuwait. It is often chosen for its association with strength and tranquility[3][7].\\n- **Cultural Significance**: In Hindu culture, names like Vipin are chosen to inspire qualities associated with nature, such as peace and strength[5].\\n\\nIf you have any specific questions or need further information, feel free to ask'"
      ]
     },
     "execution_count": 60,
     "metadata": {},
     "output_type": "execute_result"
    }
   ],
   "source": [
    "response.content"
   ]
  },
  {
   "cell_type": "code",
   "execution_count": 61,
   "id": "3d8814c9",
   "metadata": {},
   "outputs": [],
   "source": [
    "## Bit more complex\n",
    "prompt=ChatPromptTemplate.from_messages([\n",
    "    (\"system\",\"You are a helpful assistant. That answers questions woth its best ability in this {language}.\"),\n",
    "    MessagesPlaceholder(variable_name=\"messages\")\n",
    "])\n",
    "\n",
    "chain=prompt | model"
   ]
  },
  {
   "cell_type": "code",
   "execution_count": 62,
   "id": "7a2afd47",
   "metadata": {},
   "outputs": [],
   "source": [
    "current_response=chain.invoke({\n",
    "    \"messages\":[HumanMessage(content=\"Hi,i'm Vipin.\")],\n",
    "    \"language\":\"hindi\",   \n",
    "})"
   ]
  },
  {
   "cell_type": "code",
   "execution_count": 63,
   "id": "722313d3",
   "metadata": {},
   "outputs": [
    {
     "data": {
      "text/plain": [
       "'आपका नाम **Vipin** संस्कृत शब्द **\"विपिन\" (vipina)** से आया है, जिसका अर्थ होता है **\"वन\"**, \"जंगल\", या \"वनस्पति\"। यह नाम मुख्य रूप से हिंदी, मराठी और मलयालम भाषाओं में पुरुषों के लिए प्रयुक्त होता है और यह प्रकृति, शांति, और समृद्धि का प्रतीक माना जाता है[1][3][6].\\n\\n**Vipin नाम के बारे में मुख्य तथ्य:**\\n\\n- **अर्थ:** वन, जंगल, या हरा-भरा स्थल\\n- **उत्पत्ति:** संस्कृत शब्द \"विपिन\" से\\n- **लिंग:** पुरुष (मर्दाना नाम)\\n- **प्रचलन:** भारत समेत कई देशों में लोकप्रिय है, विशेषकर हिंदी भाषी क्षेत्रों में\\n- **लकी नंबर:** 7 (जो नेतृत्व और आत्मविश्वास का प्रतीक माना जाता है)[6]\\n- **संस्कृति:** यह नाम हिन्दू संस्कृति में विशेष महत्व रखता है और इसे शांति, प्राकृतिक सौंदर्य और साहस के गुणों के लिए चुना जाता है[5][6].\\n\\nयदि आप अपने नाम के बारे में और जानकारी चाहते हैं या इसका इतिहास जानना चाहते हैं, तो यह नाम प्रकृति से जुड़ा एक सरल और सुंदर नाम है जो भारतीय सांस्कृतिक पृष्ठभूमि में गहराई रखता है।'"
      ]
     },
     "execution_count": 63,
     "metadata": {},
     "output_type": "execute_result"
    }
   ],
   "source": [
    "current_response.content"
   ]
  },
  {
   "cell_type": "code",
   "execution_count": 64,
   "id": "ce1e703a",
   "metadata": {},
   "outputs": [],
   "source": [
    "with_message_history=RunnableWithMessageHistory(\n",
    "    chain,\n",
    "    get_session_history,\n",
    "    input_messages_key=\"messages\"\n",
    ")"
   ]
  },
  {
   "cell_type": "code",
   "execution_count": 65,
   "id": "6c604745",
   "metadata": {},
   "outputs": [],
   "source": [
    "config_3={\"configurable\":{\"session_id\":\"chat_4\"}}\n",
    "response_last = with_message_history.invoke(\n",
    "    {\"messages\": [HumanMessage(content=\"Hi, I'm Vipin\")], \"language\": \"hindi\"},\n",
    "    config=config_3\n",
    ")"
   ]
  },
  {
   "cell_type": "code",
   "execution_count": 66,
   "id": "7c949814",
   "metadata": {},
   "outputs": [
    {
     "data": {
      "text/plain": [
       "{'configurable': {'session_id': 'chat_4'}}"
      ]
     },
     "execution_count": 66,
     "metadata": {},
     "output_type": "execute_result"
    }
   ],
   "source": [
    "config_3"
   ]
  },
  {
   "cell_type": "code",
   "execution_count": 67,
   "id": "282630f5",
   "metadata": {},
   "outputs": [
    {
     "data": {
      "text/plain": [
       "'आपका नाम **Vipin** संस्कृत शब्द \"विपिन\" (vipina) से लिया गया है, जिसका अर्थ होता है **\"जंगल\"** या **\"वन\"**। यह नाम हिंदी, मराठी, मलयालम जैसी भाषाओं में पुरुषों के लिए प्रयुक्त होता है और इसे प्रकृति, शांति, और समृद्धि से जोड़ा जाता है[1][3][7][9]।\\n\\nयह नाम सरल, लोकप्रिय और संस्कृत संस्कृति में धार्मिक और सांस्कृतिक महत्व रखता है। नाम Vipin से जुड़े गुणों में साहस, शांति और प्राकृतिक सुंदरता का प्रतीक माना जाता है[5][7]। इसे हिंदी भाषी और अन्य भारतीय समुदायों में विशेष रूप से पसंद किया जाता है[3][7]।\\n\\nसंक्षेप में:  \\n- **अर्थ:** जंगल, वन, प्राकृतिक सौंदर्य  \\n- **उत्पत्ति:** संस्कृत  \\n- **लिंग:** पुरुष  \\n- **भाषा:** हिंदी, मराठी, मलयालम आदि  \\n- **सांस्कृतिक महत्व:** शांति, शक्ति, प्रकृति से जुड़ा नाम  \\n\\nयदि आप अपने नाम के बारे में और जानना चाहते हैं या इसका उपयोग किस प्रकार किया जाता है, तो मैं और जानकारी भी प्रदान कर सकता हूँ।'"
      ]
     },
     "execution_count": 67,
     "metadata": {},
     "output_type": "execute_result"
    }
   ],
   "source": [
    "response_last.content"
   ]
  },
  {
   "cell_type": "markdown",
   "id": "0eb1d993",
   "metadata": {},
   "source": [
    "## Manage the Content History\n",
    "\n",
    "`trim_message`: Helps to reduce the number of messages that we want to send it to the LLM. Also allows to specify how many tokens to keep."
   ]
  },
  {
   "cell_type": "code",
   "execution_count": 68,
   "id": "f7da4172",
   "metadata": {},
   "outputs": [
    {
     "data": {
      "text/plain": [
       "[SystemMessage(content='You are a helpful assistant.', additional_kwargs={}, response_metadata={}),\n",
       " HumanMessage(content=\"Hi, I'm Vipin and I am a Data Scientist\", additional_kwargs={}, response_metadata={}),\n",
       " AIMessage(content=\"Hello Vipin! As a Data Scientist, your role involves collecting, processing, analyzing, and modeling data to extract actionable insights that help businesses make informed decisions. You likely work with programming languages such as Python and Scala, especially in areas like AI and computer vision, as you've indicated in your GitHub profile.\", additional_kwargs={}, response_metadata={}),\n",
       " HumanMessage(content='What is my name and role?', additional_kwargs={}, response_metadata={}),\n",
       " AIMessage(content='Your name is Vipin, and you are a Data Scientist. As a Data Scientist, your role involves collecting, processing, analyzing, and modeling data to extract actionable insights that help businesses make informed decisions.', additional_kwargs={}, response_metadata={}),\n",
       " HumanMessage(content='I like vanilla ice cream', additional_kwargs={}, response_metadata={}),\n",
       " AIMessage(content='nice', additional_kwargs={}, response_metadata={}),\n",
       " HumanMessage(content='whats 2 + 2', additional_kwargs={}, response_metadata={}),\n",
       " AIMessage(content='4', additional_kwargs={}, response_metadata={}),\n",
       " HumanMessage(content='thanks', additional_kwargs={}, response_metadata={}),\n",
       " AIMessage(content='no problem!', additional_kwargs={}, response_metadata={}),\n",
       " HumanMessage(content='having fun?', additional_kwargs={}, response_metadata={}),\n",
       " AIMessage(content='yes!', additional_kwargs={}, response_metadata={})]"
      ]
     },
     "execution_count": 68,
     "metadata": {},
     "output_type": "execute_result"
    }
   ],
   "source": [
    "from langchain_core.messages import SystemMessage, trim_messages\n",
    "from mergedeep import Strategy\n",
    "\n",
    "trimmer = trim_messages(\n",
    "    max_tokens=350,\n",
    "    strategy=\"last\",\n",
    "    allow_partial=False,\n",
    "    include_system=True,\n",
    "    start_on=\"human\",\n",
    "    token_counter=model,\n",
    ")\n",
    "\n",
    "messages=[\n",
    "    SystemMessage(content=\"You are a helpful assistant.\"),\n",
    "    HumanMessage(content=\"Hi, I'm Vipin and I am a Data Scientist\"),\n",
    "    AIMessage(content=\"Hello Vipin! As a Data Scientist, your role involves collecting, processing, analyzing, and modeling data to extract actionable insights that help businesses make informed decisions. You likely work with programming languages such as Python and Scala, especially in areas like AI and computer vision, as you've indicated in your GitHub profile.\"),\n",
    "    HumanMessage(content=\"What is my name and role?\"),\n",
    "    AIMessage(content=\"Your name is Vipin, and you are a Data Scientist. As a Data Scientist, your role involves collecting, processing, analyzing, and modeling data to extract actionable insights that help businesses make informed decisions.\"),\n",
    "    HumanMessage(content=\"I like vanilla ice cream\"),\n",
    "    AIMessage(content=\"nice\"),\n",
    "    HumanMessage(content=\"whats 2 + 2\"),\n",
    "    AIMessage(content=\"4\"),\n",
    "    HumanMessage(content=\"thanks\"),\n",
    "    AIMessage(content=\"no problem!\"),\n",
    "    HumanMessage(content=\"having fun?\"),\n",
    "    AIMessage(content=\"yes!\"),\n",
    "]\n",
    "\n",
    "trimmer.invoke(messages)"
   ]
  },
  {
   "cell_type": "code",
   "execution_count": 69,
   "id": "4f64ac76",
   "metadata": {},
   "outputs": [
    {
     "data": {
      "text/plain": [
       "'You like **vanilla ice cream**. This is confirmed by your earlier statement and aligns with data showing vanilla is the most popular ice cream flavor in America[1][2][3]. Vanilla is known for its classic, versatile taste and is often favored for its simplicity and compatibility with many desserts.'"
      ]
     },
     "execution_count": 69,
     "metadata": {},
     "output_type": "execute_result"
    }
   ],
   "source": [
    "from operator import itemgetter\n",
    "from langchain_core.runnables import RunnablePassthrough\n",
    "\n",
    "chain=(\n",
    "    RunnablePassthrough.assign(messages=itemgetter(\"messages\")| trimmer)\n",
    "    |prompt\n",
    "    |model\n",
    ")\n",
    "\n",
    "response = chain.invoke(\n",
    "    {\n",
    "        \"messages\":messages + [HumanMessage(content=\"What Ice cream do i like?\")],\n",
    "        \"language\":\"English\"\n",
    "    }\n",
    ")\n",
    "\n",
    "\n",
    "response.content"
   ]
  },
  {
   "cell_type": "code",
   "execution_count": 70,
   "id": "f9bbc9d1",
   "metadata": {},
   "outputs": [
    {
     "data": {
      "text/plain": [
       "'You did not ask a math problem in your previous messages. If you’d like, you can ask a math question now, and I’ll do my best to help!'"
      ]
     },
     "execution_count": 70,
     "metadata": {},
     "output_type": "execute_result"
    }
   ],
   "source": [
    "response = chain.invoke(\n",
    "    {\n",
    "        \"messages\": messages + [HumanMessage(content=\"what math problem did i ask\")],\n",
    "        \"language\": \"English\",\n",
    "    }\n",
    ")\n",
    "response.content"
   ]
  },
  {
   "cell_type": "code",
   "execution_count": 71,
   "id": "ea3ab411",
   "metadata": {},
   "outputs": [],
   "source": [
    "with_message_history=RunnableWithMessageHistory(\n",
    "    chain,\n",
    "    get_session_history,\n",
    "    input_messages_key=\"messages\"\n",
    ")\n",
    "\n",
    "config_4={\"configurable\":{\"session_id\":\"chat_5\"}}\n"
   ]
  },
  {
   "cell_type": "code",
   "execution_count": 72,
   "id": "8ba6e44b",
   "metadata": {},
   "outputs": [],
   "source": [
    "response = with_message_history.invoke(\n",
    "    {\n",
    "        \"messages\": messages + [HumanMessage(content=\"What math problem did i ask\")],\n",
    "        \"language\": \"English\",\n",
    "    },\n",
    "    config=config_4,\n",
    ")"
   ]
  },
  {
   "cell_type": "code",
   "execution_count": 73,
   "id": "4e42c978",
   "metadata": {},
   "outputs": [
    {
     "data": {
      "text/plain": [
       "'You asked the math problem: \"What is 2 + 2?\"'"
      ]
     },
     "execution_count": 73,
     "metadata": {},
     "output_type": "execute_result"
    }
   ],
   "source": [
    "response.content"
   ]
  },
  {
   "cell_type": "code",
   "execution_count": 74,
   "id": "9c3a9ad3",
   "metadata": {},
   "outputs": [
    {
     "data": {
      "text/plain": [
       "'You asked the math problem: \"What is 2 + 2?\" This is a basic arithmetic addition problem.'"
      ]
     },
     "execution_count": 74,
     "metadata": {},
     "output_type": "execute_result"
    }
   ],
   "source": [
    "response = with_message_history.invoke(\n",
    "    {\n",
    "        \"messages\": [HumanMessage(content=\"what math problem did i ask?\")],\n",
    "        \"language\": \"English\",\n",
    "    },\n",
    "    config=config_4,\n",
    ")\n",
    "\n",
    "response.content"
   ]
  },
  {
   "cell_type": "code",
   "execution_count": null,
   "id": "e3469ab8",
   "metadata": {},
   "outputs": [],
   "source": []
  }
 ],
 "metadata": {
  "kernelspec": {
   "display_name": "langchain",
   "language": "python",
   "name": "python3"
  },
  "language_info": {
   "codemirror_mode": {
    "name": "ipython",
    "version": 3
   },
   "file_extension": ".py",
   "mimetype": "text/x-python",
   "name": "python",
   "nbconvert_exporter": "python",
   "pygments_lexer": "ipython3",
   "version": "3.11.0"
  }
 },
 "nbformat": 4,
 "nbformat_minor": 5
}
